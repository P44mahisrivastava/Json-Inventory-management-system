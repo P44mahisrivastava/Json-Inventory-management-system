{
  "nbformat": 4,
  "nbformat_minor": 0,
  "metadata": {
    "colab": {
      "name": "IMS Json adding items to inventory",
      "provenance": []
    },
    "kernelspec": {
      "name": "python3",
      "display_name": "Python 3"
    },
    "language_info": {
      "name": "python"
    }
  },
  "cells": [
    {
      "cell_type": "code",
      "metadata": {
        "id": "jWlmC6LHbkKq"
      },
      "source": [
        "import json"
      ],
      "execution_count": 1,
      "outputs": []
    },
    {
      "cell_type": "code",
      "metadata": {
        "id": "djz_LwTAcHhI"
      },
      "source": [
        "fd = open('Record.json','r')\n",
        "r=fd.read()\n",
        "fd.close()\n"
      ],
      "execution_count": 46,
      "outputs": []
    },
    {
      "cell_type": "code",
      "metadata": {
        "colab": {
          "base_uri": "https://localhost:8080/",
          "height": 86
        },
        "id": "0OL_h62McHrW",
        "outputId": "854a2439-16c7-41b4-f517-a820dfdc42ae"
      },
      "source": [
        "r"
      ],
      "execution_count": 47,
      "outputs": [
        {
          "output_type": "execute_result",
          "data": {
            "application/vnd.google.colaboratory.intrinsic+json": {
              "type": "string"
            },
            "text/plain": [
              "'{\"1001\": {\"name\": \"Choco Cake\", \"qn\": 34, \"pr\": 100}, \"1002\": {\"name\": \"Milk Cake\", \"pr\": 800, \"qn\": 100}, \"1003\": {\"name\": \"Drink\", \"pr\": 85, \"qn\": 100}, \"1004\": {\"name\": \"Candy\", \"pr\": 5, \"qn\": 1000}, \"1005\": {\"name\": \"Pen\", \"pr\": 20, \"qn\": 100}, \"1006\": {\"name\": \"Phone\", \"pr\": 50000, \"qn\": 10}, \"1007\": {\"name\": \"Mic\", \"pr\": 1500, \"qn\": 0}, \"1008\": {\"name\": \"Case\", \"pr\": 599, \"qn\": 5}, \"1009\": {\"name\": \"Keyboard\", \"pr\": 1999, \"qn\": 10}}\\n'"
            ]
          },
          "metadata": {},
          "execution_count": 47
        }
      ]
    },
    {
      "cell_type": "code",
      "metadata": {
        "colab": {
          "base_uri": "https://localhost:8080/"
        },
        "id": "xt2elIPXgqkr",
        "outputId": "42c0431f-6144-4fd5-ce67-377fba556b4c"
      },
      "source": [
        "record=json.loads(r)\n",
        "record"
      ],
      "execution_count": 51,
      "outputs": [
        {
          "output_type": "execute_result",
          "data": {
            "text/plain": [
              "{'1001': {'name': 'Choco Cake', 'pr': 100, 'qn': 34},\n",
              " '1002': {'name': 'Milk Cake', 'pr': 800, 'qn': 100},\n",
              " '1003': {'name': 'Drink', 'pr': 85, 'qn': 100},\n",
              " '1004': {'name': 'Candy', 'pr': 5, 'qn': 1000},\n",
              " '1005': {'name': 'Pen', 'pr': 20, 'qn': 100},\n",
              " '1006': {'name': 'Phone', 'pr': 50000, 'qn': 10},\n",
              " '1007': {'name': 'Mic', 'pr': 1500, 'qn': 0},\n",
              " '1008': {'name': 'Case', 'pr': 599, 'qn': 5},\n",
              " '1009': {'name': 'Keyboard', 'pr': 1999, 'qn': 10}}"
            ]
          },
          "metadata": {},
          "execution_count": 51
        }
      ]
    },
    {
      "cell_type": "code",
      "metadata": {
        "colab": {
          "base_uri": "https://localhost:8080/"
        },
        "id": "5NAuJP8RcHte",
        "outputId": "f1fadd2d-3637-45f5-ba93-53b7e141fbe5"
      },
      "source": [
        "2#Adding new item to inventory\n",
        "prod_id = str(input(\"Enter product id:\"))\n",
        "name = str(input(\"Enter name:\"))\n",
        "pr = int(input(\"Enter price:\"))\n",
        "qn = int(input(\"Enter quantity:\"))\n",
        "\n",
        "record[prod_id] = {'name': name, 'pr': pr, 'qn': qn}\n",
        "\n",
        "js = json.dumps(record)\n",
        "\n",
        "fd = open(\"Record.json\",'w')\n",
        "fd.write(js)\n",
        "fd.close()"
      ],
      "execution_count": 52,
      "outputs": [
        {
          "name": "stdout",
          "output_type": "stream",
          "text": [
            "Enter product id:1010\n",
            "Enter name:tea\n",
            "Enter price:250\n",
            "Enter quantity:2\n"
          ]
        }
      ]
    },
    {
      "cell_type": "code",
      "metadata": {
        "colab": {
          "base_uri": "https://localhost:8080/"
        },
        "id": "4JSTdNQ2cHyY",
        "outputId": "c53b317d-9110-4624-daec-64054bbf530e"
      },
      "source": [
        "record"
      ],
      "execution_count": 53,
      "outputs": [
        {
          "output_type": "execute_result",
          "data": {
            "text/plain": [
              "{'1001': {'name': 'Choco Cake', 'pr': 100, 'qn': 34},\n",
              " '1002': {'name': 'Milk Cake', 'pr': 800, 'qn': 100},\n",
              " '1003': {'name': 'Drink', 'pr': 85, 'qn': 100},\n",
              " '1004': {'name': 'Candy', 'pr': 5, 'qn': 1000},\n",
              " '1005': {'name': 'Pen', 'pr': 20, 'qn': 100},\n",
              " '1006': {'name': 'Phone', 'pr': 50000, 'qn': 10},\n",
              " '1007': {'name': 'Mic', 'pr': 1500, 'qn': 0},\n",
              " '1008': {'name': 'Case', 'pr': 599, 'qn': 5},\n",
              " '1009': {'name': 'Keyboard', 'pr': 1999, 'qn': 10},\n",
              " '1010': {'name': 'tea', 'pr': 250, 'qn': 2}}"
            ]
          },
          "metadata": {},
          "execution_count": 53
        }
      ]
    },
    {
      "cell_type": "code",
      "metadata": {
        "id": "-l66d676cH1T"
      },
      "source": [
        "del record['1008']"
      ],
      "execution_count": 55,
      "outputs": []
    },
    {
      "cell_type": "code",
      "metadata": {
        "colab": {
          "base_uri": "https://localhost:8080/"
        },
        "id": "jE6mDEi-kQp3",
        "outputId": "0adaedbf-84dc-4719-e098-9cf6ef3aedfb"
      },
      "source": [
        "record"
      ],
      "execution_count": 56,
      "outputs": [
        {
          "output_type": "execute_result",
          "data": {
            "text/plain": [
              "{'1001': {'name': 'Choco Cake', 'pr': 100, 'qn': 34},\n",
              " '1002': {'name': 'Milk Cake', 'pr': 800, 'qn': 100},\n",
              " '1003': {'name': 'Drink', 'pr': 85, 'qn': 100},\n",
              " '1004': {'name': 'Candy', 'pr': 5, 'qn': 1000},\n",
              " '1005': {'name': 'Pen', 'pr': 20, 'qn': 100},\n",
              " '1006': {'name': 'Phone', 'pr': 50000, 'qn': 10},\n",
              " '1007': {'name': 'Mic', 'pr': 1500, 'qn': 0},\n",
              " '1009': {'name': 'Keyboard', 'pr': 1999, 'qn': 10},\n",
              " '1010': {'name': 'tea', 'pr': 250, 'qn': 2}}"
            ]
          },
          "metadata": {},
          "execution_count": 56
        }
      ]
    }
  ]
}