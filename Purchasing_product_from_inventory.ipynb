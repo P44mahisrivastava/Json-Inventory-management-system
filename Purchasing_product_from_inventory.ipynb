{
  "nbformat": 4,
  "nbformat_minor": 0,
  "metadata": {
    "colab": {
      "name": "Purchasing product from inventory",
      "provenance": []
    },
    "kernelspec": {
      "name": "python3",
      "display_name": "Python 3"
    },
    "language_info": {
      "name": "python"
    }
  },
  "cells": [
    {
      "cell_type": "code",
      "metadata": {
        "id": "BkWy2xNIkvfp"
      },
      "source": [
        "import json\n",
        "\n",
        "fd = open(\"Record.json\",'r')\n",
        "r = fd.read()\n",
        "fd.close()\n",
        "\n",
        "record = json.loads(r)"
      ],
      "execution_count": 3,
      "outputs": []
    },
    {
      "cell_type": "code",
      "metadata": {
        "colab": {
          "base_uri": "https://localhost:8080/"
        },
        "id": "UCSmUGZIlBPm",
        "outputId": "9e67e67a-1546-43f3-c717-5023f407df5e"
      },
      "source": [
        "record"
      ],
      "execution_count": 4,
      "outputs": [
        {
          "output_type": "execute_result",
          "data": {
            "text/plain": [
              "{'1001': {'name': 'Choco Cake', 'pr': 100, 'qn': 34},\n",
              " '1002': {'name': 'Milk Cake', 'pr': 800, 'qn': 100},\n",
              " '1003': {'name': 'Drink', 'pr': 85, 'qn': 100},\n",
              " '1004': {'name': 'Candy', 'pr': 5, 'qn': 1000},\n",
              " '1005': {'name': 'Pen', 'pr': 20, 'qn': 100},\n",
              " '1006': {'name': 'Phone', 'pr': 50000, 'qn': 10},\n",
              " '1007': {'name': 'Mic', 'pr': 1500, 'qn': 0},\n",
              " '1008': {'name': 'Case', 'pr': 599, 'qn': 5},\n",
              " '1009': {'name': 'Keyboard', 'pr': 1999, 'qn': 10}}"
            ]
          },
          "metadata": {},
          "execution_count": 4
        }
      ]
    },
    {
      "cell_type": "code",
      "metadata": {
        "colab": {
          "base_uri": "https://localhost:8080/"
        },
        "id": "Pf-UwQB5lBaA",
        "outputId": "3551ff56-4d96-4181-98a4-43b0645c8cf3"
      },
      "source": [
        "#Purchase\n",
        "ui_prod  = str(input(\"Enter the product_Id: \"))\n",
        "ui_quant = int(input(\"Enter the quantity: \"))\n",
        "\n",
        "\n",
        "print(\"Product: \", records[ui_prod]['name'])\n",
        "print(\"Price: \", records[ui_prod]['pr'])\n",
        "print(\"Billing Amount: \", records[ui_prod]['pr'] * ui_quant)\n",
        "\n",
        "records[ui_prod]['qn'] = records[ui_prod]['qn'] - ui_quant"
      ],
      "execution_count": 6,
      "outputs": [
        {
          "output_type": "stream",
          "name": "stdout",
          "text": [
            "Enter the product_Id: 1004\n",
            "Enter the quantity: 2\n",
            "Product:  Candy\n",
            "Price:  5\n",
            "Billing Amount:  10\n"
          ]
        }
      ]
    },
    {
      "cell_type": "code",
      "metadata": {
        "id": "mRCOmFFCl4n9"
      },
      "source": [
        "#update inventory\n",
        "js = json.dumps(records)\n",
        "\n",
        "fd = open(\"record.json\",'w')\n",
        "fd.write(js)\n",
        "fd.close()"
      ],
      "execution_count": 7,
      "outputs": []
    },
    {
      "cell_type": "code",
      "metadata": {
        "colab": {
          "base_uri": "https://localhost:8080/"
        },
        "id": "dYE-0lCml4yv",
        "outputId": "e7527376-1597-4748-d979-3a091e11fdd3"
      },
      "source": [
        "#Sales \n",
        "{'prod' : ui_prod, 'qn' : ui_quant, 'amount': records[ui_prod]['pr'] * ui_quant}"
      ],
      "execution_count": 8,
      "outputs": [
        {
          "output_type": "execute_result",
          "data": {
            "text/plain": [
              "{'amount': 10, 'prod': '1004', 'qn': 2}"
            ]
          },
          "metadata": {},
          "execution_count": 8
        }
      ]
    },
    {
      "cell_type": "code",
      "metadata": {
        "colab": {
          "base_uri": "https://localhost:8080/"
        },
        "id": "Wm4ZZr0xl46K",
        "outputId": "173038e3-e899-44b6-f9db-4e65e7cedc5e"
      },
      "source": [
        "sales = {1 : {'prod' : ui_prod, 'qn' : ui_quant, 'amount': records[ui_prod]['pr'] * ui_quant},\n",
        "         2 : {'prod' : ui_prod, 'qn' : ui_quant, 'amount': records[ui_prod]['pr'] * ui_quant},\n",
        "         3 : {'prod' : ui_prod, 'qn' : ui_quant, 'amount': records[ui_prod]['pr'] * ui_quant}}\n",
        "sales"
      ],
      "execution_count": 13,
      "outputs": [
        {
          "output_type": "execute_result",
          "data": {
            "text/plain": [
              "{1: {'amount': 10, 'prod': '1004', 'qn': 2},\n",
              " 2: {'amount': 10, 'prod': '1004', 'qn': 2},\n",
              " 3: {'amount': 10, 'prod': '1004', 'qn': 2}}"
            ]
          },
          "metadata": {},
          "execution_count": 13
        }
      ]
    },
    {
      "cell_type": "code",
      "metadata": {
        "colab": {
          "base_uri": "https://localhost:8080/",
          "height": 35
        },
        "id": "rnpTqqB1l5Dm",
        "outputId": "e2b23e83-9544-4a6e-8fbb-469cb8f0b18f"
      },
      "source": [
        "sale = json.dumps(sales)\n",
        "sale"
      ],
      "execution_count": 11,
      "outputs": [
        {
          "output_type": "execute_result",
          "data": {
            "application/vnd.google.colaboratory.intrinsic+json": {
              "type": "string"
            },
            "text/plain": [
              "'{\"1\": {\"prod\": \"1004\", \"qn\": 2, \"amount\": 10}, \"2\": {\"prod\": \"1004\", \"qn\": 2, \"amount\": 10}, \"3\": {\"prod\": \"1004\", \"qn\": 2, \"amount\": 10}}'"
            ]
          },
          "metadata": {},
          "execution_count": 11
        }
      ]
    }
  ]
}